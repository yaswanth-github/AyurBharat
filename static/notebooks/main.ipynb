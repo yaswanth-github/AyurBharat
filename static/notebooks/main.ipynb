{
 "cells": [
  {
   "cell_type": "markdown",
   "id": "cf6983a0-587c-4084-9571-51dc7a9c6218",
   "metadata": {
    "jp-MarkdownHeadingCollapsed": true
   },
   "source": [
    "### Main Ml Model"
   ]
  },
  {
   "cell_type": "code",
   "execution_count": null,
   "id": "6a59924b-df7a-4b49-a3f1-49886032e8f3",
   "metadata": {},
   "outputs": [],
   "source": [
    "import pandas as pd\n",
    "from sklearn.feature_extraction.text import TfidfVectorizer\n",
    "from sklearn.ensemble import RandomForestClassifier\n",
    "from nltk.corpus import stopwords\n",
    "\n",
    "data = pd.read_csv(\"/Users/yaswanth/AyurBharat/ML Model/AyurBharat_DataSet.csv\")\n",
    "\n",
    "# Preprocess text data\n",
    "stop_words = set(stopwords.words('english'))\n",
    "\n",
    "def preprocess_text(text):\n",
    "    text = text.lower()\n",
    "    text = ' '.join([word for word in text.split() if word not in stop_words])\n",
    "    text = ''.join([char for char in text if char.isalnum() or char.isspace()])\n",
    "    return text\n",
    "\n",
    "# Define target variables for each column by their names\n",
    "y_disease = data[\"Disease_Ayurvedic_Name\"]\n",
    "y_description = data[\"Description\"]\n",
    "y_symptoms = data[\"Symptoms\"]\n",
    "y_remedy = data[\"Ayurvedic_Remedy\"]\n",
    "y_ingredients = data[\"Ingredients\"]\n",
    "y_preparation = data[\"Preparation\"]\n",
    "\n",
    "# Split data into features (X) and target (y) for each column\n",
    "X = data[\"Symptoms\"]\n",
    "\n",
    "# Vectorize text data using TF-IDF\n",
    "vectorizer = TfidfVectorizer()\n",
    "X_vectorized = vectorizer.fit_transform(X)\n",
    "\n",
    "# Train a RandomForestClassifier for each column\n",
    "clf_disease = RandomForestClassifier(n_estimators=100, random_state=42)\n",
    "clf_disease.fit(X_vectorized, y_disease)\n",
    "\n",
    "clf_description = RandomForestClassifier(n_estimators=100, random_state=42)\n",
    "clf_description.fit(X_vectorized, y_description)\n",
    "\n",
    "clf_symptoms = RandomForestClassifier(n_estimators=100, random_state=42)\n",
    "clf_symptoms.fit(X_vectorized, y_symptoms)\n",
    "\n",
    "clf_remedy = RandomForestClassifier(n_estimators=100, random_state=42)\n",
    "clf_remedy.fit(X_vectorized, y_remedy)\n",
    "\n",
    "clf_ingredients = RandomForestClassifier(n_estimators=100, random_state=42)\n",
    "clf_ingredients.fit(X_vectorized, y_ingredients)\n",
    "\n",
    "clf_preparation = RandomForestClassifier(n_estimators=100, random_state=42)\n",
    "clf_preparation.fit(X_vectorized, y_preparation)\n",
    "\n",
    "def predict_disease_info(disease_name, symptoms):\n",
    "    # Vectorize user input (symptoms only)\n",
    "    symptoms = preprocess_text(symptoms)\n",
    "    user_input_vectorized = vectorizer.transform([symptoms])\n",
    "\n",
    "    # Predict Disease_Ayurvedic_Name\n",
    "    disease_prediction = clf_disease.predict(user_input_vectorized)[0]\n",
    "\n",
    "    # Predict Description\n",
    "    description_prediction = clf_description.predict(user_input_vectorized)[0]\n",
    "\n",
    "    # Predict Symptoms\n",
    "    symptoms_prediction = clf_symptoms.predict(user_input_vectorized)[0]\n",
    "\n",
    "    # Predict Ayurvedic_Remedy\n",
    "    remedy_prediction = clf_remedy.predict(user_input_vectorized)[0]\n",
    "\n",
    "    # Predict Ingredients\n",
    "    ingredients_prediction = clf_ingredients.predict(user_input_vectorized)[0]\n",
    "\n",
    "    # Predict Preparation\n",
    "    preparation_prediction = clf_preparation.predict(user_input_vectorized)[0]\n",
    "\n",
    "    return disease_prediction, description_prediction, symptoms_prediction, remedy_prediction, ingredients_prediction, preparation_prediction\n",
    "\n",
    "print(\"Choose an option:\")\n",
    "print(\"1. Enter both Disease and Symptoms\")\n",
    "print(\"2. Enter Symptoms only\")\n",
    "print(\"3. Exit\")\n",
    "\n",
    "option = input(\"Enter your choice (1/2/3): \")\n",
    "\n",
    "if option == '1':\n",
    "    user_disease = input(\"Enter the disease: \")\n",
    "    user_symptoms = input(\"Enter the symptoms (comma-separated): \")\n",
    "    predicted_disease, description_prediction, symptoms_prediction, remedy_prediction, ingredients_prediction, preparation_prediction = predict_disease_info(user_disease, user_symptoms)\n",
    "\n",
    "elif option == '2':\n",
    "    user_symptoms = input(\"Enter the symptoms (mandatory, comma-separated): \")\n",
    "    # Assuming user_disease is not provided when entering symptoms only\n",
    "    predicted_disease, description_prediction, symptoms_prediction, remedy_prediction, ingredients_prediction, preparation_prediction = predict_disease_info(\"N/A\", user_symptoms)\n",
    "\n",
    "elif option == '3':\n",
    "    pass  # The code will exit after this block\n",
    "else:\n",
    "    print(\"Invalid choice. Please select 1, 2, or 3.\")\n",
    "\n",
    "if option != '3':\n",
    "    print(\"\")\n",
    "    print(\"Predicted Disease:\", predicted_disease)\n",
    "    print(\"\")\n",
    "    print(\"Description for Disease:\", description_prediction)\n",
    "    print(\"\")\n",
    "    print(\"Predicted Symptoms:\", symptoms_prediction)\n",
    "    print(\"\")\n",
    "    print(\"Predicted Remedy:\", remedy_prediction)\n",
    "    print(\"\")\n",
    "    print(\"Predicted Ingredients:\", ingredients_prediction)\n",
    "    print(\"\")\n",
    "    print(\"Predicted Preparation:\", preparation_prediction)\n"
   ]
  },
  {
   "cell_type": "code",
   "execution_count": null,
   "id": "dd092941-bec6-42b5-9142-9d7e9cf94c21",
   "metadata": {},
   "outputs": [],
   "source": []
  },
  {
   "cell_type": "code",
   "execution_count": null,
   "id": "fe588f78-0da7-43b6-8331-ad441ea5723e",
   "metadata": {},
   "outputs": [],
   "source": []
  },
  {
   "cell_type": "code",
   "execution_count": null,
   "id": "57e745ce-d141-46a6-afe9-4fb809321995",
   "metadata": {},
   "outputs": [],
   "source": []
  },
  {
   "cell_type": "markdown",
   "id": "8af6a4a9-5816-4513-aaa4-381726f36e16",
   "metadata": {
    "jp-MarkdownHeadingCollapsed": true
   },
   "source": [
    "### Using Pickel Files"
   ]
  },
  {
   "cell_type": "code",
   "execution_count": 1,
   "id": "f869adf0-61a6-4577-9f94-60d5cf709602",
   "metadata": {},
   "outputs": [
    {
     "name": "stdout",
     "output_type": "stream",
     "text": [
      "Enter your symptoms (comma-separated):  leg pain\n"
     ]
    }
   ],
   "source": [
    "# Get user input\n",
    "user_input = input(\"Enter your symptoms (comma-separated): \")"
   ]
  },
  {
   "cell_type": "code",
   "execution_count": 2,
   "id": "cb6cf802-319e-40ba-be5d-716931544a72",
   "metadata": {},
   "outputs": [
    {
     "name": "stdout",
     "output_type": "stream",
     "text": [
      "\n",
      "Predicted Disease: Urustambha\n",
      "\n",
      "Description for Disease: Involuntary muscle contractions or stiffness in the legs, which can be due to muscle fatigue, dehydration, or neurological issues. Addressing the underlying cause and using stretching exercises, hydration, and medications as needed can help relieve leg stiffness and spasms.\n",
      "\n",
      "Predicted Symptoms: Leg stiffness, muscle pain\n",
      "\n",
      "Predicted Remedy: Phalatrikadi Kvatha Churna\n",
      "\n",
      "Predicted Ingredients: A combination of herbs (Shadanga) and other ingredients\n",
      "\n",
      "Predicted Preparation: Formulate a powder with herbs and other ingredients.\n"
     ]
    }
   ],
   "source": [
    "import pickle\n",
    "\n",
    "# Load the model and vectorizer\n",
    "predicted_disease = pickle.load(open(\"disease_classifier.pkl\", \"rb\"))\n",
    "description_prediction=pickle.load(open(\"description_classifier.pkl\", \"rb\"))\n",
    "symptoms_prediction=pickle.load(open(\"symptoms_classifier.pkl\", \"rb\"))\n",
    "remedy_prediction = pickle.load(open(\"remedy_classifier.pkl\", \"rb\"))\n",
    "ingredients_prediction = pickle.load(open(\"ingredients_classifier.pkl\", \"rb\"))\n",
    "preparation_prediction = pickle.load(open(\"preparation_classifier.pkl\", \"rb\"))\n",
    "\n",
    "vectorizer = pickle.load(open(\"vectorizer.pkl\", \"rb\"))\n",
    "\n",
    "# Preprocess the user input\n",
    "user_input_vectorized = vectorizer.transform([user_input])\n",
    "\n",
    "# Make a prediction using the model\n",
    "predicted_disease = predicted_disease.predict(user_input_vectorized)[0]\n",
    "\n",
    "description_prediction=description_prediction.predict(user_input_vectorized)[0]\n",
    "\n",
    "symptoms_prediction=symptoms_prediction.predict(user_input_vectorized)[0]\n",
    "\n",
    "remedy_prediction = remedy_prediction.predict(user_input_vectorized)[0]\n",
    "\n",
    "ingredients_prediction = ingredients_prediction.predict(user_input_vectorized)[0]\n",
    "\n",
    "preparation_prediction = preparation_prediction.predict(user_input_vectorized)[0]\n",
    "\n",
    "\n",
    "# Print the prediction\n",
    "print(\"\")\n",
    "print(\"Predicted Disease:\", predicted_disease)\n",
    "print(\"\")\n",
    "print(\"Description for Disease:\", description_prediction)\n",
    "print(\"\")\n",
    "print(\"Predicted Symptoms:\", symptoms_prediction)\n",
    "print(\"\")\n",
    "print(\"Predicted Remedy:\", remedy_prediction)\n",
    "print(\"\")\n",
    "print(\"Predicted Ingredients:\", ingredients_prediction)\n",
    "print(\"\")\n",
    "print(\"Predicted Preparation:\", preparation_prediction)\n"
   ]
  },
  {
   "cell_type": "code",
   "execution_count": null,
   "id": "cca3f5d8-36e0-43f4-b56d-20daf40ab623",
   "metadata": {},
   "outputs": [],
   "source": []
  },
  {
   "cell_type": "code",
   "execution_count": null,
   "id": "ec1755e5-03b3-489b-8ca8-fa1eb19bf76e",
   "metadata": {},
   "outputs": [],
   "source": []
  },
  {
   "cell_type": "code",
   "execution_count": null,
   "id": "ee078003-1b24-4f37-b1c6-4481c3ac5eaf",
   "metadata": {},
   "outputs": [],
   "source": []
  },
  {
   "cell_type": "markdown",
   "id": "3c68810a-259d-4252-b403-8029a98a097f",
   "metadata": {},
   "source": [
    "### Using joblib file"
   ]
  },
  {
   "cell_type": "code",
   "execution_count": 6,
   "id": "94526ca4-e2eb-44da-ae9f-5cd5f23b1cdf",
   "metadata": {},
   "outputs": [],
   "source": [
    "# Get user input (symptoms)\n",
    "user_symptoms = input(\"Enter the symptoms (comma-separated): \")"
   ]
  },
  {
   "cell_type": "code",
   "execution_count": 10,
   "id": "af07e2a7-95f2-469d-a068-7bfca81b39a3",
   "metadata": {},
   "outputs": [],
   "source": [
    "import joblib\n",
    "from nltk.corpus import stopwords\n",
    "\n",
    "def model(user_symptoms):\n",
    "    # Load the combined models from the joblib file\n",
    "    combined_models = joblib.load('../models/ml_model.joblib')\n",
    "\n",
    "    # Access each model from the combined file\n",
    "    clf_disease = combined_models['disease_classifier']\n",
    "    clf_description = combined_models['description_classifier']\n",
    "    clf_symptoms = combined_models['symptoms_classifier']\n",
    "    clf_remedy = combined_models['remedy_classifier']\n",
    "    clf_ingredients = combined_models['ingredients_classifier']\n",
    "    clf_preparation = combined_models['preparation_classifier']\n",
    "    vectorizer=combined_models['vectorizer']\n",
    "\n",
    "    # Define a function to preprocess text\n",
    "    stop_words = set(stopwords.words('english'))\n",
    "\n",
    "    def preprocess_text(text):\n",
    "        text = text.lower()\n",
    "        text = ' '.join([word for word in text.split() if word not in stop_words])\n",
    "        text = ''.join([char for char in text if char.isalnum() or char.isspace()])\n",
    "        return text\n",
    "\n",
    "    user_symptoms = preprocess_text(user_symptoms)\n",
    "\n",
    "    # Vectorize user input (symptoms)\n",
    "    user_input_vectorized = vectorizer.transform([user_symptoms])\n",
    "\n",
    "    # Make predictions using the loaded models\n",
    "    predicted_disease = clf_disease.predict(user_input_vectorized)[0]\n",
    "    description_prediction = clf_description.predict(user_input_vectorized)[0]\n",
    "    symptoms_prediction = clf_symptoms.predict(user_input_vectorized)[0]\n",
    "    remedy_prediction = clf_remedy.predict(user_input_vectorized)[0]\n",
    "    ingredients_prediction = clf_ingredients.predict(user_input_vectorized)[0]\n",
    "    preparation_prediction = clf_preparation.predict(user_input_vectorized)[0]\n",
    "\n",
    "\n",
    "    # Print the predictions\n",
    "    print(\" \")\n",
    "    print(\"Predicted Disease:\", predicted_disease)\n",
    "    print(\" \")\n",
    "    print(\"Description for Disease:\", description_prediction)\n",
    "    print(\" \")\n",
    "    print(\"Predicted Symptoms:\", symptoms_prediction)\n",
    "    print(\" \")\n",
    "    print(\"Predicted Remedy:\", remedy_prediction)\n",
    "    print(\" \")\n",
    "    print(\"Predicted Ingredients:\", ingredients_prediction)\n",
    "    print(\" \")\n",
    "    print(\"Predicted Preparation:\", preparation_prediction)\n"
   ]
  },
  {
   "cell_type": "code",
   "execution_count": 11,
   "id": "e1b135f5",
   "metadata": {},
   "outputs": [
    {
     "name": "stdout",
     "output_type": "stream",
     "text": [
      " \n",
      "Predicted Disease: Urustambha\n",
      " \n",
      "Description for Disease: Involuntary muscle contractions or stiffness in the legs, which can be due to muscle fatigue, dehydration, or neurological issues. Addressing the underlying cause and using stretching exercises, hydration, and medications as needed can help relieve leg stiffness and spasms.\n",
      " \n",
      "Predicted Symptoms: Leg stiffness, muscle pain\n",
      " \n",
      "Predicted Remedy: Phalatrikadi Kvatha Churna\n",
      " \n",
      "Predicted Ingredients: A combination of herbs (Shadanga) and other ingredients\n",
      " \n",
      "Predicted Preparation: Formulate a powder with herbs and other ingredients.\n"
     ]
    }
   ],
   "source": [
    "model(user_symptoms)"
   ]
  },
  {
   "cell_type": "code",
   "execution_count": 9,
   "id": "75c384ee-151d-4b9c-b2b7-b1e3db4f72c9",
   "metadata": {},
   "outputs": [
    {
     "name": "stderr",
     "output_type": "stream",
     "text": [
      "/Library/Frameworks/Python.framework/Versions/3.10/lib/python3.10/site-packages/sklearn/base.py:348: InconsistentVersionWarning: Trying to unpickle estimator DecisionTreeClassifier from version 1.3.0 when using version 1.3.2. This might lead to breaking code or invalid results. Use at your own risk. For more info please refer to:\n",
      "https://scikit-learn.org/stable/model_persistence.html#security-maintainability-limitations\n",
      "  warnings.warn(\n",
      "/Library/Frameworks/Python.framework/Versions/3.10/lib/python3.10/site-packages/sklearn/base.py:348: InconsistentVersionWarning: Trying to unpickle estimator RandomForestClassifier from version 1.3.0 when using version 1.3.2. This might lead to breaking code or invalid results. Use at your own risk. For more info please refer to:\n",
      "https://scikit-learn.org/stable/model_persistence.html#security-maintainability-limitations\n",
      "  warnings.warn(\n",
      "/Library/Frameworks/Python.framework/Versions/3.10/lib/python3.10/site-packages/sklearn/base.py:348: InconsistentVersionWarning: Trying to unpickle estimator TfidfTransformer from version 1.3.0 when using version 1.3.2. This might lead to breaking code or invalid results. Use at your own risk. For more info please refer to:\n",
      "https://scikit-learn.org/stable/model_persistence.html#security-maintainability-limitations\n",
      "  warnings.warn(\n",
      "/Library/Frameworks/Python.framework/Versions/3.10/lib/python3.10/site-packages/sklearn/base.py:348: InconsistentVersionWarning: Trying to unpickle estimator TfidfVectorizer from version 1.3.0 when using version 1.3.2. This might lead to breaking code or invalid results. Use at your own risk. For more info please refer to:\n",
      "https://scikit-learn.org/stable/model_persistence.html#security-maintainability-limitations\n",
      "  warnings.warn(\n"
     ]
    },
    {
     "name": "stdout",
     "output_type": "stream",
     "text": [
      " \n",
      "Predicted Disease: Urustambha\n",
      " \n",
      "Description for Disease: Involuntary muscle contractions or stiffness in the legs, which can be due to muscle fatigue, dehydration, or neurological issues. Addressing the underlying cause and using stretching exercises, hydration, and medications as needed can help relieve leg stiffness and spasms.\n",
      " \n",
      "Predicted Symptoms: Leg stiffness, muscle pain\n",
      " \n",
      "Predicted Remedy: Phalatrikadi Kvatha Churna\n",
      " \n",
      "Predicted Ingredients: A combination of herbs (Shadanga) and other ingredients\n",
      " \n",
      "Predicted Preparation: Formulate a powder with herbs and other ingredients.\n"
     ]
    },
    {
     "ename": "AttributeError",
     "evalue": "'NoneType' object has no attribute 'set_params'",
     "output_type": "error",
     "traceback": [
      "\u001b[0;31m---------------------------------------------------------------------------\u001b[0m",
      "\u001b[0;31mAttributeError\u001b[0m                            Traceback (most recent call last)",
      "\u001b[1;32m/Users/jaswanth/Desktop/AyurBharat_sqlite/static/notebooks/main.ipynb Cell 16\u001b[0m line \u001b[0;36m1\n\u001b[1;32m      <a href='vscode-notebook-cell:/Users/jaswanth/Desktop/AyurBharat_sqlite/static/notebooks/main.ipynb#X21sZmlsZQ%3D%3D?line=6'>7</a>\u001b[0m new_model \u001b[39m=\u001b[39m model(user_symptoms)  \u001b[39m# Replace with the appropriate model class\u001b[39;00m\n\u001b[1;32m      <a href='vscode-notebook-cell:/Users/jaswanth/Desktop/AyurBharat_sqlite/static/notebooks/main.ipynb#X21sZmlsZQ%3D%3D?line=8'>9</a>\u001b[0m \u001b[39m# Copy parameters from the original model to the new model\u001b[39;00m\n\u001b[0;32m---> <a href='vscode-notebook-cell:/Users/jaswanth/Desktop/AyurBharat_sqlite/static/notebooks/main.ipynb#X21sZmlsZQ%3D%3D?line=9'>10</a>\u001b[0m new_model\u001b[39m.\u001b[39;49mset_params(\u001b[39m*\u001b[39m\u001b[39m*\u001b[39moriginal_model\u001b[39m.\u001b[39mget_params())\n\u001b[1;32m     <a href='vscode-notebook-cell:/Users/jaswanth/Desktop/AyurBharat_sqlite/static/notebooks/main.ipynb#X21sZmlsZQ%3D%3D?line=11'>12</a>\u001b[0m \u001b[39m# Save the new model in the correct format\u001b[39;00m\n\u001b[1;32m     <a href='vscode-notebook-cell:/Users/jaswanth/Desktop/AyurBharat_sqlite/static/notebooks/main.ipynb#X21sZmlsZQ%3D%3D?line=12'>13</a>\u001b[0m joblib\u001b[39m.\u001b[39mdump(new_model, \u001b[39m'\u001b[39m\u001b[39m../models/ml_model.joblib\u001b[39m\u001b[39m'\u001b[39m)\n",
      "\u001b[0;31mAttributeError\u001b[0m: 'NoneType' object has no attribute 'set_params'"
     ]
    }
   ],
   "source": [
    "import joblib\n",
    "\n",
    "# Load the original model with the incompatible dtype\n",
    "original_model = joblib.load('../models/ml_model.joblib')\n",
    "\n",
    "# Create a new model with the expected dtype\n",
    "new_model = model(user_symptoms)  # Replace with the appropriate model class\n",
    "\n",
    "# Copy parameters from the original model to the new model\n",
    "new_model.set_params(**original_model.get_params())\n",
    "\n",
    "# Save the new model in the correct format\n",
    "joblib.dump(new_model, '../models/ml_model.joblib')\n"
   ]
  },
  {
   "cell_type": "code",
   "execution_count": null,
   "id": "7f515c00-04da-418e-a73a-1b0bdc8ce11e",
   "metadata": {},
   "outputs": [],
   "source": []
  },
  {
   "cell_type": "markdown",
   "id": "cac81b28-210b-420f-8f09-e8eb972c493e",
   "metadata": {
    "jp-MarkdownHeadingCollapsed": true
   },
   "source": [
    "## Saving ML Models"
   ]
  },
  {
   "cell_type": "code",
   "execution_count": null,
   "id": "40c50269-ff12-4211-9dcb-d104012560d7",
   "metadata": {},
   "outputs": [],
   "source": [
    "# import pickle\n",
    "\n",
    "# # Save the TF-IDF vectorizer\n",
    "# with open('vectorizer.pkl', 'wb') as file:\n",
    "#     pickle.dump(vectorizer, file)\n",
    "\n",
    "# # Save the trained models\n",
    "# with open('disease_classifier.pkl', 'wb') as file:\n",
    "#     pickle.dump(clf_disease, file)\n",
    "\n",
    "# with open('description_classifier.pkl', 'wb') as file:\n",
    "#     pickle.dump(clf_description, file)\n",
    "\n",
    "# with open('symptoms_classifier.pkl', 'wb') as file:\n",
    "#     pickle.dump(clf_symptoms, file)\n",
    "\n",
    "# with open('remedy_classifier.pkl', 'wb') as file:\n",
    "#     pickle.dump(clf_remedy, file)\n",
    "\n",
    "# with open('ingredients_classifier.pkl', 'wb') as file:\n",
    "#     pickle.dump(clf_ingredients, file)\n",
    "\n",
    "# with open('preparation_classifier.pkl', 'wb') as file:\n",
    "#     pickle.dump(clf_preparation, file)\n"
   ]
  },
  {
   "cell_type": "code",
   "execution_count": null,
   "id": "00a456e7-3aaa-4053-aebf-11dde53b8f19",
   "metadata": {},
   "outputs": [],
   "source": [
    "# import joblib\n",
    "\n",
    "# # Load your existing pickled models\n",
    "# with open('disease_classifier.pkl', 'rb') as file:\n",
    "#     clf_disease = pickle.load(file)\n",
    "\n",
    "# with open('description_classifier.pkl', 'rb') as file:\n",
    "#     clf_description = pickle.load(file)\n",
    "\n",
    "# with open('symptoms_classifier.pkl', 'rb') as file:\n",
    "#     clf_symptoms = pickle.load(file)\n",
    "\n",
    "# with open('remedy_classifier.pkl', 'rb') as file:\n",
    "#     clf_remedy = pickle.load(file)\n",
    "\n",
    "# with open('ingredients_classifier.pkl', 'rb') as file:\n",
    "#     clf_ingredients = pickle.load(file)\n",
    "\n",
    "# with open('preparation_classifier.pkl', 'rb') as file:\n",
    "#     clf_preparation = pickle.load(file)\n",
    "\n",
    "# with open('vectorizer.pkl', 'rb') as file:\n",
    "#     vectorizer = pickle.load(file)\n",
    "\n",
    "\n",
    "# # Combine all models into one dictionary\n",
    "# model_dict = {\n",
    "#     'disease_classifier': clf_disease,\n",
    "#     'description_classifier': clf_description,\n",
    "#     'symptoms_classifier': clf_symptoms,\n",
    "#     'remedy_classifier': clf_remedy,\n",
    "#     'ingredients_classifier': clf_ingredients,\n",
    "#     'preparation_classifier': clf_preparation,\n",
    "#     'vectorizer': vectorizer\n",
    "# }\n",
    "\n",
    "# # Save the combined models to a single joblib file\n",
    "# joblib.dump(model_dict, 'ml_model.joblib')\n"
   ]
  }
 ],
 "metadata": {
  "kernelspec": {
   "display_name": "Python 3 (ipykernel)",
   "language": "python",
   "name": "python3"
  },
  "language_info": {
   "codemirror_mode": {
    "name": "ipython",
    "version": 3
   },
   "file_extension": ".py",
   "mimetype": "text/x-python",
   "name": "python",
   "nbconvert_exporter": "python",
   "pygments_lexer": "ipython3",
   "version": "3.10.6"
  }
 },
 "nbformat": 4,
 "nbformat_minor": 5
}
